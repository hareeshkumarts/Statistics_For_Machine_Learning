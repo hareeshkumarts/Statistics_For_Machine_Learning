{
 "cells": [
  {
   "cell_type": "markdown",
   "metadata": {},
   "source": [
    "<table align=\"center\" width=100%>\n",
    "    <tr>\n",
    "        <td width=\"15%\">\n",
    "            <img src=\"homework.png\">\n",
    "        </td>\n",
    "        <td>\n",
    "            <div align=\"center\">\n",
    "                <font color=\"#21618C\" size=8px>\n",
    "                    <b> Take-Home <br>(Week 2)\n",
    "                    </b>\n",
    "                </font>\n",
    "            </div>\n",
    "        </td>\n",
    "    </tr>\n",
    "</table>"
   ]
  },
  {
   "cell_type": "markdown",
   "metadata": {},
   "source": [
    "**Import the required libraries**"
   ]
  },
  {
   "cell_type": "code",
   "execution_count": 1,
   "metadata": {},
   "outputs": [],
   "source": [
    "# type your code here\n",
    "\n",
    "import numpy as np\n",
    "import pandas as pd\n",
    "import scipy.stats as st"
   ]
  },
  {
   "cell_type": "markdown",
   "metadata": {},
   "source": [
    "### Let's begin with some hands-on practice exercises"
   ]
  },
  {
   "cell_type": "markdown",
   "metadata": {
    "collapsed": true
   },
   "source": [
    "<table align=\"left\">\n",
    "    <tr>\n",
    "        <td width=\"6%\">\n",
    "            <img src=\"question_icon.png\">\n",
    "        </td>\n",
    "        <td>\n",
    "            <div align=\"left\", style=\"font-size:120%\">\n",
    "                <font color=\"#21618C\">\n",
    "                    <b>1. The quality assurance department claims that on average the non-fat yogurt contains less than 148 mg of potassium per 100 g pack. To check this claim 35 packs of yogurt are collected and the content of potassium is recorded. Can we use the Z-test to test the claim of the quality assurance department?\n",
    "</b>\n",
    "                </font>\n",
    "            </div>\n",
    "        </td>\n",
    "    </tr>\n",
    "</table>"
   ]
  },
  {
   "cell_type": "markdown",
   "metadata": {},
   "source": [
    "Use the data given below:\n",
    "        \n",
    "        pot_mg = [151, 159, 168, 146, 129, 147, 149, 141, 150, 158, 119, 125, 139, 154, 163, 156, 132, 137, 126, 152,\n",
    "                  127, 135, 138, 145, 128, 148, 153, 124, 170, 134, 157, 164, 144, 160, 161]\n"
   ]
  },
  {
   "cell_type": "code",
   "execution_count": 19,
   "metadata": {},
   "outputs": [],
   "source": [
    "# Ho - Data is Normally Distributed\n",
    "#H1 - Data is Not Normally Distributed\n",
    "alpha = 0.05"
   ]
  },
  {
   "cell_type": "code",
   "execution_count": 25,
   "metadata": {},
   "outputs": [
    {
     "name": "stdout",
     "output_type": "stream",
     "text": [
      "ShapiroResult(statistic=0.9694578647613525, pvalue=0.4285268187522888)\n"
     ]
    }
   ],
   "source": [
    "pot_mg = [151, 159, 168, 146, 129, 147, 149, 141, 150, 158, 119, 125, 139, 154, 163, 156, 132, 137, 126, 152,\n",
    "              127, 135, 138, 145, 128, 148, 153, 124, 170, 134, 157, 164, 144, 160, 161]\n",
    "\n",
    "# Test of Normality\n",
    "print(st.shapiro(pot_mg))"
   ]
  },
  {
   "cell_type": "code",
   "execution_count": null,
   "metadata": {},
   "outputs": [],
   "source": [
    "# Since p_value is greater than alpha, we fail to reject Null Hypothesis. Data is Normal and we can use Z-Test and sample > 30"
   ]
  },
  {
   "cell_type": "markdown",
   "metadata": {
    "collapsed": true
   },
   "source": [
    "<table align=\"left\">\n",
    "    <tr>\n",
    "        <td width=\"6%\">\n",
    "            <img src=\"question_icon.png\">\n",
    "        </td>\n",
    "        <td>\n",
    "            <div align=\"left\", style=\"font-size:120%\">\n",
    "                <font color=\"#21618C\">\n",
    "                    <b>2. The quality assurance department claims that on average the non-fat yogurt contains less than 148 mg of potassium per 100 g pack. To check this claim 35 packs of yogurt are collected and the content of potassium is recorded. Use 0.05 as a level of significance to test the claim using p-value technique.   \n",
    "</b>\n",
    "                </font>\n",
    "            </div>\n",
    "        </td>\n",
    "    </tr>\n",
    "</table>"
   ]
  },
  {
   "cell_type": "markdown",
   "metadata": {},
   "source": [
    "Use the data given below:\n",
    "        \n",
    "          pot_mg = [151, 159, 168, 146, 129, 147, 149, 141, 150, 158, 119, 125, 139, 154, 163, 156, 132, 137, 126, 152,\n",
    "                    127, 135, 138, 145, 128, 148, 153, 124, 170, 134, 157, 164, 144, 160, 161]"
   ]
  },
  {
   "cell_type": "code",
   "execution_count": 27,
   "metadata": {},
   "outputs": [
    {
     "name": "stdout",
     "output_type": "stream",
     "text": [
      "z_critical_value :  -1.6448536269514729\n",
      "z-stats :  -1.109712412013474\n",
      "p_value : 0.13356148631189496\n",
      "We fail to reject Null Hypothesis\n"
     ]
    }
   ],
   "source": [
    "# ho - mu>=148\n",
    "#h1 -  mu <148\n",
    "\n",
    "pot_mg = [151, 159, 168, 146, 129, 147, 149, 141, 150, 158, 119, 125, 139, 154, 163, 156, 132, 137, 126, 152,\n",
    "              127, 135, 138, 145, 128, 148, 153, 124, 170, 134, 157, 164, 144, 160, 161]\n",
    "n =35\n",
    "xbar = np.mean(pot_mg)\n",
    "mu = 148\n",
    "sigma = np.std(pot_mg,ddof=1) # sample standard deviation(s)\n",
    "\n",
    "alpha = 0.05 \n",
    "\n",
    "\n",
    "z_critical_value = st.norm.ppf(alpha)\n",
    "\n",
    "z_stats = (xbar - mu) / (sigma/np.sqrt(n))\n",
    "\n",
    "p_value = st.norm.cdf(z_stats)\n",
    "\n",
    "print('z_critical_value : ',z_critical_value)\n",
    "print('z-stats : ',z_stats)\n",
    "print('p_value :',p_value)\n",
    "\n",
    "if p_value <  alpha:\n",
    "    print('We reject Null and accept Alternate hypothesis')\n",
    "else:\n",
    "    print('We fail to reject Null Hypothesis')"
   ]
  },
  {
   "cell_type": "code",
   "execution_count": 26,
   "metadata": {},
   "outputs": [],
   "source": [
    "# Since p_value greater than ALpha , we fail to reject Null Hypothesis ,The Above Claim is incorrect"
   ]
  },
  {
   "cell_type": "code",
   "execution_count": 39,
   "metadata": {},
   "outputs": [
    {
     "data": {
      "text/plain": [
       "(-1.109712412013474, 0.13356148631189496)"
      ]
     },
     "execution_count": 39,
     "metadata": {},
     "output_type": "execute_result"
    }
   ],
   "source": [
    "# Using Built-in Function\n",
    "from statsmodels.stats import weightstats as stests\n",
    "\n",
    "stests.ztest(pot_mg,value=148,alternative='smaller')"
   ]
  },
  {
   "cell_type": "markdown",
   "metadata": {
    "collapsed": true
   },
   "source": [
    "<table align=\"left\">\n",
    "    <tr>\n",
    "        <td width=\"6%\">\n",
    "            <img src=\"question_icon.png\">\n",
    "        </td>\n",
    "        <td>\n",
    "            <div align=\"left\", style=\"font-size:120%\">\n",
    "                <font color=\"#21618C\">\n",
    "                    <b>3. The production manager at the Xen Sewing Factory claims that on average the diameter of a class 14M bobbin is less than 18 mm. The previous study shows that the standard deviation is 1.7 mm. Consider a sample of 40 class 14M bobbins from a normally distributed population with sample mean diameter as 17.5 mm. Test the claim of the production manager with 99% confidence. \n",
    "</b>\n",
    "                </font>\n",
    "            </div>\n",
    "        </td>\n",
    "    </tr>\n",
    "</table>"
   ]
  },
  {
   "cell_type": "code",
   "execution_count": 4,
   "metadata": {},
   "outputs": [
    {
     "name": "stdout",
     "output_type": "stream",
     "text": [
      "z_critical_value :  -2.3263478740408408\n",
      "z-stats :  -1.8601633295108115\n",
      "p_value : 0.031431210741779014\n",
      "We fail to reject Null Hypothesis\n"
     ]
    }
   ],
   "source": [
    "\n",
    "\n",
    "# h0 - mu >=18\n",
    "# h1 - mu <18\n",
    "\n",
    "mu =18\n",
    "sigma = 1.7 # sample standard deviation\n",
    "n = 40\n",
    "xbar = 17.5\n",
    "alpha = 0.01\n",
    "\n",
    "z_critical_value = st.norm.ppf(alpha)\n",
    "\n",
    "z_stats = (xbar - mu)/(sigma/np.sqrt(n))\n",
    "\n",
    "p_value = st.norm.cdf(z_stats)\n",
    "\n",
    "print('z_critical_value : ',z_critical_value)\n",
    "print('z-stats : ',z_stats)\n",
    "print('p_value :',p_value)\n",
    "\n",
    "if p_value <  alpha:\n",
    "    print('We reject Null and accept Alternate hypothesis')\n",
    "else:\n",
    "    print('We fail to reject Null Hypothesis')"
   ]
  },
  {
   "cell_type": "code",
   "execution_count": 40,
   "metadata": {},
   "outputs": [],
   "source": [
    "# Since p_value greater than ALpha , we fail to reject Null Hypothesis ,The Above Claim is incorrect"
   ]
  },
  {
   "cell_type": "markdown",
   "metadata": {
    "colab_type": "text",
    "id": "V7QJT8W9f98T"
   },
   "source": [
    "<table align=\"left\">\n",
    "    <tr>\n",
    "        <td width=\"6%\">\n",
    "            <img src=\"question_icon.png\">\n",
    "        </td>\n",
    "        <td>\n",
    "            <div align=\"left\", style=\"font-size:120%\">\n",
    "                <font color=\"#21618C\">\n",
    "                    <b>4. The NY university has opened the post of Astrophysics professor. The total number of applications was 36. To check the authenticity of the applicants a sample of 10 applications was collected, out of which 3 applicants were found to be a fraud. Estimate the number of fraud applicants from all the applications.</b>\n",
    "                </font>\n",
    "            </div>\n",
    "        </td>\n",
    "    </tr>\n",
    "</table>"
   ]
  },
  {
   "cell_type": "code",
   "execution_count": 5,
   "metadata": {},
   "outputs": [
    {
     "name": "stdout",
     "output_type": "stream",
     "text": [
      "Interval Function :  (0.15030527802429908, 0.44969472197570093)\n",
      "0.15030527802429902 0.44969472197570093\n"
     ]
    }
   ],
   "source": [
    "N=36\n",
    "p_samp=3/10\n",
    "alpha=0.05\n",
    "SE = np.sqrt(p_samp*(1-p_samp)/N)\n",
    "\n",
    "\n",
    "# loc - sample_mean,scale - SE\n",
    "\n",
    "print('Interval Function : ',st.norm.interval(0.95,loc=p_samp,scale=SE))\n",
    "\n",
    "## using formula ##\n",
    "\n",
    "z_critical = st.norm.isf(alpha/2)\n",
    "\n",
    "p_samp_lower = p_samp-z_critical*SE\n",
    "p_samp_upper = p_samp+z_critical*SE\n",
    "\n",
    "print(p_samp_lower,p_samp_upper)"
   ]
  },
  {
   "cell_type": "markdown",
   "metadata": {
    "colab_type": "text",
    "id": "iZkGr2rTf98y"
   },
   "source": [
    "<table align=\"left\">\n",
    "    <tr>\n",
    "        <td width=\"6%\">\n",
    "            <img src=\"question_icon.png\">\n",
    "        </td>\n",
    "        <td>\n",
    "            <div align=\"left\", style=\"font-size:120%\">\n",
    "                <font color=\"#21618C\">\n",
    "                    <b>5. The physical trainer at a university wants to estimate the average height of students at the university. The trainer collects the data of 100 students and found that the average height is 168 cm with a standard deviation of 12 cm. Use 95% confidence level for the population average height.</b>\n",
    "                </font>\n",
    "            </div>\n",
    "        </td>\n",
    "    </tr>\n",
    "</table>"
   ]
  },
  {
   "cell_type": "code",
   "execution_count": 41,
   "metadata": {},
   "outputs": [
    {
     "name": "stdout",
     "output_type": "stream",
     "text": [
      "Using Function :  (165.64804321855195, 170.35195678144805)\n",
      "Using Formula :  165.64804321855195 170.35195678144805\n"
     ]
    }
   ],
   "source": [
    "# H0 - mu =168\n",
    "# H1 - mu !=168\n",
    "\n",
    "n =100\n",
    "xbar =168\n",
    "sigma = 12\n",
    "alpha = 0.05\n",
    "\n",
    "SE = sigma/np.sqrt(n)\n",
    "z_critical_value = st.norm.isf(alpha/2)\n",
    "\n",
    "ME = z_critical_value * SE\n",
    "\n",
    "\n",
    "lower_pop_mean = xbar - ME\n",
    "upper_pop_mean = xbar +ME\n",
    "\n",
    "print('Using Function : ',st.norm.interval(0.95,loc=xbar,scale=SE))\n",
    "print('Using Formula : ',lower_pop_mean,upper_pop_mean)"
   ]
  },
  {
   "cell_type": "markdown",
   "metadata": {
    "colab_type": "text",
    "id": "iOS1kKjWf983"
   },
   "source": [
    "<table align=\"left\">\n",
    "    <tr>\n",
    "        <td width=\"6%\">\n",
    "            <img src=\"question_icon.png\">\n",
    "        </td>\n",
    "        <td>\n",
    "            <div align=\"left\", style=\"font-size:120%\">\n",
    "                <font color=\"#21618C\">\n",
    "                    <b>6. The health magazine in Los Angeles states that a person should drink 1.8 L water every day. To study this statement, the physician collects the data of 15 people and found that the average water intake for these people is 1.6 L with a standard deviation of 0.5 L. Use 90% confidence level for the population average water intake.</b>\n",
    "                </font>\n",
    "            </div>\n",
    "        </td>\n",
    "    </tr>\n",
    "</table>"
   ]
  },
  {
   "cell_type": "code",
   "execution_count": 55,
   "metadata": {},
   "outputs": [
    {
     "name": "stdout",
     "output_type": "stream",
     "text": [
      "1.6448536269514729 1.5491933384829666\n",
      "p_value : 0.12133525035848222\n",
      "We fail to reject Null Hypothesis\n"
     ]
    }
   ],
   "source": [
    "# H0 - mu = 1.8\n",
    "# H1 - mu !=1.8 \n",
    "\n",
    "# Since the sample is less than 30 , using t test here:\n",
    "\n",
    "n= 15\n",
    "xbar = 1.8\n",
    "s = 0.5\n",
    "alpha = 0.10\n",
    "mu =1.6\n",
    "\n",
    "z_crit = st.norm.isf(alpha/2)\n",
    "se = s/(np.sqrt(n))\n",
    "\n",
    "z_stats = (xbar - mu) / se\n",
    "\n",
    "print(z_crit,z_stats)\n",
    "\n",
    "p_value = st.norm.sf(abs(z_stats))\n",
    "print('p_value :',p_value*2)\n",
    "\n",
    "if p_value*2 <  alpha:\n",
    "    print('We reject Null and accept Alternate hypothesis')\n",
    "else:\n",
    "    print('We fail to reject Null Hypothesis')"
   ]
  },
  {
   "cell_type": "code",
   "execution_count": 56,
   "metadata": {},
   "outputs": [],
   "source": [
    "# Since p_value greater than ALpha , we fail to reject Null Hypothesis ,The Above Claim is incorrect"
   ]
  },
  {
   "cell_type": "markdown",
   "metadata": {
    "colab_type": "text",
    "id": "9qnEEhR4f98X"
   },
   "source": [
    "<table align=\"left\">\n",
    "    <tr>\n",
    "        <td width=\"6%\">\n",
    "            <img src=\"question_icon.png\">\n",
    "        </td>\n",
    "        <td>\n",
    "            <div align=\"left\", style=\"font-size:120%\">\n",
    "                <font color=\"#21618C\">\n",
    "                    <b>7. The production manager at the automobile company states that all the steel rods are produced with an average length of 26 cm and a standard deviation of 2.4 cm. The length of 60 rods is collected as a sample and the average length of these rods is found to be 24.8 cm. Test whether the length of the rod is different than 26 cm with a 95% confidence level. </b>\n",
    "                </font>\n",
    "            </div>\n",
    "        </td>\n",
    "    </tr>\n",
    "</table>"
   ]
  },
  {
   "cell_type": "code",
   "execution_count": 8,
   "metadata": {},
   "outputs": [
    {
     "name": "stdout",
     "output_type": "stream",
     "text": [
      "z_critical_value :  -1.9599639845400545\n",
      "z-stats :  -3.872983346207415\n",
      "p_value : 0.00010751117672950135\n",
      "We reject Null and accept Alternate hypothesis\n"
     ]
    }
   ],
   "source": [
    "# Two tailed tests\n",
    "\n",
    "#h0 - mu  =26\n",
    "#h1 = mu!=26\n",
    "\n",
    "mu =26\n",
    "sigma = 2.4\n",
    "n =60\n",
    "xbar = 24.8\n",
    "alpha = 0.05\n",
    "\n",
    "z_critical_value = st.norm.ppf(alpha/2)\n",
    "\n",
    "z_stats = (xbar - mu)/(sigma/np.sqrt(n))\n",
    "\n",
    "p_value = st.norm.cdf(z_stats) *2\n",
    "\n",
    "print('z_critical_value : ',z_critical_value)\n",
    "print('z-stats : ',z_stats)\n",
    "print('p_value :',p_value)\n",
    "\n",
    "if p_value <  alpha:\n",
    "    print('We reject Null and accept Alternate hypothesis')\n",
    "else:\n",
    "    print('We fail to reject Null Hypothesis')"
   ]
  },
  {
   "cell_type": "code",
   "execution_count": 57,
   "metadata": {},
   "outputs": [],
   "source": [
    "# The Claim Seems to be correct"
   ]
  },
  {
   "cell_type": "markdown",
   "metadata": {
    "colab_type": "text",
    "id": "6YXVLVi9f98b"
   },
   "source": [
    "<table align=\"left\">\n",
    "    <tr>\n",
    "        <td width=\"6%\">\n",
    "            <img src=\"question_icon.png\">\n",
    "        </td>\n",
    "        <td>\n",
    "            <div align=\"left\", style=\"font-size:120%\">\n",
    "                <font color=\"#21618C\">\n",
    "                        <b>8. The production manager at tea emporium claims that the weight of a green tea bag is less than 3.5 g. To test the manager's claim consider a sample of 50 tea bags. The sample average weight is found to be 3.28 g with a standard deviation of 0.6 g. Use the p-value technique to test the claim at a 10% level of significance. </b>\n",
    "                </font>\n",
    "            </div>\n",
    "        </td>\n",
    "    </tr>\n",
    "</table>"
   ]
  },
  {
   "cell_type": "code",
   "execution_count": 9,
   "metadata": {},
   "outputs": [
    {
     "name": "stdout",
     "output_type": "stream",
     "text": [
      "z_critical_value :  -1.2815515655446004\n",
      "z-stats :  -2.592724864350677\n",
      "p_value : 0.0047609455920493825\n",
      "We reject Null and accept Alternate hypothesis\n"
     ]
    }
   ],
   "source": [
    "#h0 - mu>=3.5\n",
    "#h1 - mu < 3.5\n",
    "\n",
    "n = 50\n",
    "xbar = 3.28\n",
    "sigma = 0.6 # Sample Standard Deviation(s)\n",
    "alpha = 0.10\n",
    "mu = 3.5\n",
    "\n",
    "z_critical_value = st.norm.ppf(alpha)\n",
    "\n",
    "z_stats = (xbar - mu)/(sigma/np.sqrt(n))\n",
    "\n",
    "p_value = st.norm.cdf(z_stats)\n",
    "\n",
    "print('z_critical_value : ',z_critical_value)\n",
    "print('z-stats : ',z_stats)\n",
    "print('p_value :',p_value)\n",
    "\n",
    "if p_value <  alpha:\n",
    "    print('We reject Null and accept Alternate hypothesis')\n",
    "else:\n",
    "    print('We fail to reject Null Hypothesis')"
   ]
  },
  {
   "cell_type": "code",
   "execution_count": 58,
   "metadata": {},
   "outputs": [],
   "source": [
    "# The Claim seems to be correct with the above values"
   ]
  },
  {
   "cell_type": "markdown",
   "metadata": {
    "collapsed": true
   },
   "source": [
    "<table align=\"left\">\n",
    "    <tr>\n",
    "        <td width=\"6%\">\n",
    "            <img src=\"question_icon.png\">\n",
    "        </td>\n",
    "        <td>\n",
    "            <div align=\"left\", style=\"font-size:120%\">\n",
    "                <font color=\"#21618C\">\n",
    "                    <b>9. The physician at university claims that the average height of male students in the university hostel is more than 175 cm with a standard deviation of 8 cm. To test the claim the physical trainer at a university collects the data of 75 male students in the hostel and calculate the average height of those 75 students as 176.3 cm. Test the physician's claim at 95% confidence.\n",
    "</b>\n",
    "                </font>\n",
    "            </div>\n",
    "        </td>\n",
    "    </tr>\n",
    "</table>"
   ]
  },
  {
   "cell_type": "code",
   "execution_count": 10,
   "metadata": {},
   "outputs": [
    {
     "name": "stdout",
     "output_type": "stream",
     "text": [
      "z_critical_value :  1.6448536269514729\n",
      "z-stats :  1.4072912811497253\n",
      "p_value : 0.07967051682425197\n",
      "We fail to reject Null Hypothesis\n"
     ]
    }
   ],
   "source": [
    "#ho - mu <=175\n",
    "#h1 = mu > 175\n",
    "\n",
    "mu = 175\n",
    "sigma = 8\n",
    "n =75\n",
    "xbar = 176.3\n",
    "alpha = 0.05\n",
    "\n",
    "z_critical_value = st.norm.isf(alpha)\n",
    "\n",
    "z_stats = (xbar - mu)/(sigma/np.sqrt(n))\n",
    "\n",
    "p_value = st.norm.sf(z_stats)\n",
    "\n",
    "print('z_critical_value : ',z_critical_value)\n",
    "print('z-stats : ',z_stats)\n",
    "print('p_value :',p_value)\n",
    "\n",
    "if p_value <  alpha:\n",
    "    print('We reject Null and accept Alternate hypothesis')\n",
    "else:\n",
    "    print('We fail to reject Null Hypothesis')"
   ]
  },
  {
   "cell_type": "code",
   "execution_count": 59,
   "metadata": {},
   "outputs": [],
   "source": [
    "# The Claim seems to be incorrect with the above proof"
   ]
  },
  {
   "cell_type": "markdown",
   "metadata": {
    "colab_type": "text",
    "id": "Lzs2ddCwf99m"
   },
   "source": [
    "<table align=\"left\">\n",
    "    <tr>\n",
    "        <td width=\"6%\">\n",
    "            <img src=\"question_icon.png\">\n",
    "        </td>\n",
    "        <td>\n",
    "            <div align=\"left\", style=\"font-size:120%\">\n",
    "                <font color=\"#21618C\">\n",
    "                    <b>10. The quality control department at a soap company states that their herbal soap contains 28 ml of palm oil with a standard deviation of 3.5 ml. A sample of 120 soaps is considered. The average amount of palm oil in the sample is 27.6 ml. Test whether the amount of palm oil is different than 28 ml using the 90% confidence level. </b>\n",
    "                </font>\n",
    "            </div>\n",
    "        </td>\n",
    "    </tr>\n",
    "</table>"
   ]
  },
  {
   "cell_type": "code",
   "execution_count": 11,
   "metadata": {},
   "outputs": [
    {
     "name": "stdout",
     "output_type": "stream",
     "text": [
      "z_critical_value :  -1.6448536269514729\n",
      "z-stats :  -1.251937274297518\n",
      "p_value : 0.2105927211869113\n",
      "We fail to reject Null Hypothesis\n"
     ]
    }
   ],
   "source": [
    "# h0 - mu =28\n",
    "#h1 - mu!=28\n",
    "\n",
    "n =120\n",
    "mu =28\n",
    "sigma = 3.5\n",
    "xbar = 27.6\n",
    "alpha = 0.10\n",
    "\n",
    "z_critical_value = st.norm.ppf(alpha/2)\n",
    "\n",
    "z_stats = (xbar - mu)/(sigma/np.sqrt(n))\n",
    "\n",
    "p_value = st.norm.cdf(z_stats) *2\n",
    "\n",
    "print('z_critical_value : ',z_critical_value)\n",
    "print('z-stats : ',z_stats)\n",
    "print('p_value :',p_value)\n",
    "\n",
    "if p_value <  alpha:\n",
    "    print('We reject Null and accept Alternate hypothesis')\n",
    "else:\n",
    "    print('We fail to reject Null Hypothesis')"
   ]
  },
  {
   "cell_type": "code",
   "execution_count": 60,
   "metadata": {},
   "outputs": [],
   "source": [
    "# The Claim seems to be incorrect with above proof"
   ]
  },
  {
   "cell_type": "markdown",
   "metadata": {
    "collapsed": true
   },
   "source": [
    "<table align=\"left\">\n",
    "    <tr>\n",
    "        <td width=\"6%\">\n",
    "            <img src=\"question_icon.png\">\n",
    "        </td>\n",
    "        <td>\n",
    "            <div align=\"left\", style=\"font-size:120%\">\n",
    "                <font color=\"#21618C\">\n",
    "                    <b>11. A financial firm AlpaMoney has recently started their online payment gateway and claims that the level of customer satisfaction about the transactions is the same as that of their competitor firm PayEarly. Consider the equality of an average level of satisfaction as the null hypothesis and test the claim with 90% confidence.</b>\n",
    "                </font>\n",
    "            </div>\n",
    "        </td>\n",
    "    </tr>\n",
    "</table>"
   ]
  },
  {
   "cell_type": "markdown",
   "metadata": {},
   "source": [
    "<img src='2_z.png'>"
   ]
  },
  {
   "cell_type": "code",
   "execution_count": 89,
   "metadata": {},
   "outputs": [
    {
     "name": "stdout",
     "output_type": "stream",
     "text": [
      "1.1764532783794182 0.48032214031321885\n",
      "Reject Null and Accept Alternate Hypothesis\n"
     ]
    }
   ],
   "source": [
    "# H0 - AlphaMoney = PayEarly (Customer_Satisfaction)\n",
    "# H1 - AlphaMoney ! PayEarly (Customer_Satisfaction)\n",
    "\n",
    "# Alpha Money\n",
    "xbar1 = 4.23\n",
    "s1=np.std(Amy_time,ddof=1)\n",
    "n1 = 1.6\n",
    "\n",
    "# Pay Early\n",
    "xbar2 = 3.56\n",
    "s2=0.72\n",
    "n2 = 652\n",
    "\n",
    "t_crit = st.t.sf(alpha/2,n-1)\n",
    "\n",
    "s = np.sqrt((n1-1)*s1**2 + (n2-1)*s2**2) / np.sqrt(n1+n2-1)\n",
    "\n",
    "t_stats = (xbar1-xbar2) / (s*np.sqrt((1/n1)+(1/n2)))\n",
    "\n",
    "print(t_stats,t_crit)\n",
    "\n",
    "if abs(t_stats)<abs(t_crit):\n",
    "    print('Fail to Reject Null Hypothesis')\n",
    "else:\n",
    "    print('Reject Null and Accept Alternate Hypothesis')"
   ]
  },
  {
   "cell_type": "code",
   "execution_count": 90,
   "metadata": {},
   "outputs": [],
   "source": [
    "# With the above proof , we can conclude that the claim is incorrect"
   ]
  },
  {
   "cell_type": "markdown",
   "metadata": {
    "collapsed": true
   },
   "source": [
    "<table align=\"left\">\n",
    "    <tr>\n",
    "        <td width=\"6%\">\n",
    "            <img src=\"question_icon.png\">\n",
    "        </td>\n",
    "        <td>\n",
    "            <div align=\"left\", style=\"font-size:120%\">\n",
    "                <font color=\"#21618C\">\n",
    "                    <b>12. The economic journal claims that the students who graduated from tier 1 universities get more salary than the average salary of 35000$. A random sample of 20 graduated students is selected to test the claim. Use p-value criteria to test the claim with 0.1 as a level of significance.\n",
    "</b>\n",
    "                </font>\n",
    "            </div>\n",
    "        </td>\n",
    "    </tr>\n",
    "</table>"
   ]
  },
  {
   "cell_type": "markdown",
   "metadata": {},
   "source": [
    "Use the data given below:\n",
    "\n",
    "        salary = [29560, 26534, 31020, 44300, 52335, 69190, 71100, 80100, 90000, 41002, 46118, 88129, 79713, 95881, 47989,\n",
    "                  15188, 91631, 96189, 77819, 79590]"
   ]
  },
  {
   "cell_type": "code",
   "execution_count": 87,
   "metadata": {},
   "outputs": [
    {
     "name": "stdout",
     "output_type": "stream",
     "text": [
      "4.777624690114069 1.3277282090267981\n",
      "6.544700826360017e-05\n",
      "We reject Null and accept Alternate hypothesis\n"
     ]
    }
   ],
   "source": [
    "# Ho - salary <=35000\n",
    "# H1 - salary > 35000\n",
    "\n",
    "salary = [29560, 26534, 31020, 44300, 52335, 69190, 71100, 80100, 90000, 41002, 46118, 88129, 79713, 95881, 47989,\n",
    "              15188, 91631, 96189, 77819, 79590]\n",
    "\n",
    "mu = 35000\n",
    "xbar = np.mean(salary)\n",
    "n = 20\n",
    "s = np.std(salary,ddof=1)\n",
    "alpha = 0.10\n",
    "\n",
    "t_crit = st.t.isf(alpha,n-1)\n",
    "se = s/np.sqrt(n)\n",
    "\n",
    "t_stats = (xbar - mu)/se\n",
    "\n",
    "print(t_stats,t_crit)\n",
    "\n",
    "p_value = st.t.sf(t_stats,n-1)\n",
    "\n",
    "print(p_value)\n",
    "\n",
    "if p_value <  alpha:\n",
    "    print('We reject Null and accept Alternate hypothesis')\n",
    "else:\n",
    "    print('We fail to reject Null Hypothesis')"
   ]
  },
  {
   "cell_type": "code",
   "execution_count": 72,
   "metadata": {},
   "outputs": [
    {
     "data": {
      "text/plain": [
       "Ttest_1sampResult(statistic=4.777624690114069, pvalue=0.00013089401652720034)"
      ]
     },
     "execution_count": 72,
     "metadata": {},
     "output_type": "execute_result"
    }
   ],
   "source": [
    "st.ttest_1samp(salary,popmean=35000)"
   ]
  },
  {
   "cell_type": "code",
   "execution_count": 63,
   "metadata": {},
   "outputs": [],
   "source": [
    "# Since p_value < alpha, we reject null and accept Alternate Hypothesis , Hence the claim is correct"
   ]
  },
  {
   "cell_type": "markdown",
   "metadata": {
    "collapsed": true
   },
   "source": [
    "<table align=\"left\">\n",
    "    <tr>\n",
    "        <td width=\"6%\">\n",
    "            <img src=\"question_icon.png\">\n",
    "        </td>\n",
    "        <td>\n",
    "            <div align=\"left\", style=\"font-size:120%\">\n",
    "                <font color=\"#21618C\">\n",
    "                    <b>13. Amy and Susan are national level swimmers. Their coach conducts five rounds each of 400 m and records the time taken by the individuals. Perform a two sample t-test to test whether there is any difference between the average time taken by Amy and Susan. Use 0.05 as a level of significance.</b>\n",
    "                </font>\n",
    "            </div>\n",
    "        </td>\n",
    "    </tr>\n",
    "</table>"
   ]
  },
  {
   "cell_type": "markdown",
   "metadata": {},
   "source": [
    "Use the timing (in minutes) given below:\n",
    "\n",
    "        Amy_time = [4.2, 3, 3.8, 5, 4.6]\n",
    "        Susan_time = [5.2, 4.6, 3.9, 4.4, 5]"
   ]
  },
  {
   "cell_type": "code",
   "execution_count": 85,
   "metadata": {},
   "outputs": [
    {
     "name": "stdout",
     "output_type": "stream",
     "text": [
      "-1.2832235828046654\n"
     ]
    }
   ],
   "source": [
    "Amy_time = [4.2, 3, 3.8, 5, 4.6]\n",
    "Susan_time = [5.2, 4.6, 3.9, 4.4, 5]\n",
    "alpha = 0.05\n",
    "\n",
    "# Amy \n",
    "xbar1 = np.mean(Amy_time)\n",
    "s1=np.std(Amy_time,ddof=1)\n",
    "n1 = len(Amy_time)\n",
    "\n",
    "# Susan\n",
    "xbar2 = np.mean(Susan_time)\n",
    "s2=np.std(Susan_time,ddof=1)\n",
    "n2 = len(Susan_time)\n",
    "\n",
    "s = np.sqrt((n1-1)*s1**2 + (n2-1)*s2**2) / np.sqrt(n1+n2-1)\n",
    "\n",
    "t_stats = (xbar1-xbar2) / (s*np.sqrt((1/n1)+(1/n2)))\n",
    "\n",
    "print(t_stats)"
   ]
  },
  {
   "cell_type": "code",
   "execution_count": 70,
   "metadata": {},
   "outputs": [
    {
     "data": {
      "text/plain": [
       "Ttest_indResult(statistic=-1.209834796239568, pvalue=0.26087578765496466)"
      ]
     },
     "execution_count": 70,
     "metadata": {},
     "output_type": "execute_result"
    }
   ],
   "source": [
    "# Two sample t test\n",
    "\n",
    "# H0 - mu1=mu2\n",
    "# H1 - mu1!=mu2\n",
    "\n",
    "Amy_time = [4.2, 3, 3.8, 5, 4.6]\n",
    "Susan_time = [5.2, 4.6, 3.9, 4.4, 5]\n",
    "alpha = 0.05\n",
    "\n",
    "st.ttest_ind(Amy_time,Susan_time,equal_var = True)"
   ]
  },
  {
   "cell_type": "code",
   "execution_count": null,
   "metadata": {},
   "outputs": [],
   "source": [
    "# Since p_value > alpha , we fail to reject Null , So the test is incorrect "
   ]
  },
  {
   "cell_type": "markdown",
   "metadata": {
    "collapsed": true
   },
   "source": [
    "<table align=\"left\">\n",
    "    <tr>\n",
    "        <td width=\"6%\">\n",
    "            <img src=\"question_icon.png\">\n",
    "        </td>\n",
    "        <td>\n",
    "            <div align=\"left\", style=\"font-size:120%\">\n",
    "                <font color=\"#21618C\">\n",
    "                    <b>14. A multinational company had organized a presentation activity to test the soft skills of their 6 sales executives and then offered them a skill development course. After the completion of the course, the executives again appeared for the presentation and the scores before and after the course are recorded. Test the company's claim that the course was effective in developing soft skills with 90% confidence using the p-value technique.</b>\n",
    "                </font>\n",
    "            </div>\n",
    "        </td>\n",
    "    </tr>\n",
    "</table>"
   ]
  },
  {
   "cell_type": "markdown",
   "metadata": {},
   "source": [
    "Consider the scores given in the file `paired_data.xlsx`"
   ]
  },
  {
   "cell_type": "code",
   "execution_count": 64,
   "metadata": {},
   "outputs": [
    {
     "data": {
      "text/html": [
       "<div>\n",
       "<style scoped>\n",
       "    .dataframe tbody tr th:only-of-type {\n",
       "        vertical-align: middle;\n",
       "    }\n",
       "\n",
       "    .dataframe tbody tr th {\n",
       "        vertical-align: top;\n",
       "    }\n",
       "\n",
       "    .dataframe thead th {\n",
       "        text-align: right;\n",
       "    }\n",
       "</style>\n",
       "<table border=\"1\" class=\"dataframe\">\n",
       "  <thead>\n",
       "    <tr style=\"text-align: right;\">\n",
       "      <th></th>\n",
       "      <th>before_score</th>\n",
       "      <th>after_score</th>\n",
       "    </tr>\n",
       "  </thead>\n",
       "  <tbody>\n",
       "    <tr>\n",
       "      <th>0</th>\n",
       "      <td>23</td>\n",
       "      <td>32</td>\n",
       "    </tr>\n",
       "    <tr>\n",
       "      <th>1</th>\n",
       "      <td>38</td>\n",
       "      <td>36</td>\n",
       "    </tr>\n",
       "    <tr>\n",
       "      <th>2</th>\n",
       "      <td>35</td>\n",
       "      <td>48</td>\n",
       "    </tr>\n",
       "    <tr>\n",
       "      <th>3</th>\n",
       "      <td>45</td>\n",
       "      <td>47</td>\n",
       "    </tr>\n",
       "    <tr>\n",
       "      <th>4</th>\n",
       "      <td>32</td>\n",
       "      <td>40</td>\n",
       "    </tr>\n",
       "  </tbody>\n",
       "</table>\n",
       "</div>"
      ],
      "text/plain": [
       "   before_score  after_score\n",
       "0            23           32\n",
       "1            38           36\n",
       "2            35           48\n",
       "3            45           47\n",
       "4            32           40"
      ]
     },
     "execution_count": 64,
     "metadata": {},
     "output_type": "execute_result"
    }
   ],
   "source": [
    "df = pd.read_excel('paired_data.xlsx')\n",
    "\n",
    "df.head(5)"
   ]
  },
  {
   "cell_type": "code",
   "execution_count": null,
   "metadata": {},
   "outputs": [],
   "source": [
    "# Ho - Course was not Effective\n",
    "# H1 - Course was Effective"
   ]
  },
  {
   "cell_type": "code",
   "execution_count": 66,
   "metadata": {},
   "outputs": [
    {
     "name": "stdout",
     "output_type": "stream",
     "text": [
      "-2.75783135866153 0.03993727174744146\n"
     ]
    }
   ],
   "source": [
    "stats,p_value = st.ttest_rel(df['before_score'],df['after_score'])\n",
    "\n",
    "print(stats,p_value)"
   ]
  },
  {
   "cell_type": "code",
   "execution_count": 67,
   "metadata": {},
   "outputs": [
    {
     "name": "stdout",
     "output_type": "stream",
     "text": [
      "We reject Null and accept Alternate hypothesis\n"
     ]
    }
   ],
   "source": [
    "if p_value <  alpha:\n",
    "    print('We reject Null and accept Alternate hypothesis')\n",
    "else:\n",
    "    print('We fail to reject Null Hypothesis')"
   ]
  },
  {
   "cell_type": "code",
   "execution_count": 68,
   "metadata": {},
   "outputs": [],
   "source": [
    "# With the Above Proof , we can conclude that the course was effective"
   ]
  }
 ],
 "metadata": {
  "kernelspec": {
   "display_name": "Python 3",
   "language": "python",
   "name": "python3"
  },
  "language_info": {
   "codemirror_mode": {
    "name": "ipython",
    "version": 3
   },
   "file_extension": ".py",
   "mimetype": "text/x-python",
   "name": "python",
   "nbconvert_exporter": "python",
   "pygments_lexer": "ipython3",
   "version": "3.8.5"
  }
 },
 "nbformat": 4,
 "nbformat_minor": 2
}
