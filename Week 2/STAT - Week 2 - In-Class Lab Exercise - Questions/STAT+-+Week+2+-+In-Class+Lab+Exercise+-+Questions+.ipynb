{
 "cells": [
  {
   "cell_type": "markdown",
   "metadata": {
    "colab_type": "text",
    "id": "0yzl3MKzf98L"
   },
   "source": [
    "<table align=\"center\" width=100%>\n",
    "    <tr>\n",
    "        <td width=\"10%\">\n",
    "            <img src=\"in_class.png\">\n",
    "        </td>\n",
    "        <td>\n",
    "            <div align=\"center\">\n",
    "                <font color=\"#21618C\" size=8px>\n",
    "                    <b> Inclass-Lab  <br>(Week 2)\n",
    "                    </b>\n",
    "                </font>\n",
    "            </div>\n",
    "        </td>\n",
    "    </tr>\n",
    "</table>"
   ]
  },
  {
   "cell_type": "markdown",
   "metadata": {},
   "source": [
    "## Table of Content\n",
    "\n",
    "1. **[Large Sample Test](#z)**\n",
    "2. **[Small Sample Test](#t)**\n"
   ]
  },
  {
   "cell_type": "markdown",
   "metadata": {},
   "source": [
    "**Import the required libraries**"
   ]
  },
  {
   "cell_type": "code",
   "execution_count": 1,
   "metadata": {},
   "outputs": [],
   "source": [
    "import numpy as np\n",
    "import pandas as pd\n",
    "import scipy.stats as st"
   ]
  },
  {
   "cell_type": "markdown",
   "metadata": {
    "colab_type": "text",
    "id": "psOYFu6zf98N"
   },
   "source": [
    "### Let's begin with some hands-on practice exercises"
   ]
  },
  {
   "cell_type": "code",
   "execution_count": 2,
   "metadata": {},
   "outputs": [],
   "source": [
    "# Large Sample Test\n",
    "# If sample size > 30 \n",
    "# pop sd is known\n",
    "\n",
    "# Z-Test"
   ]
  },
  {
   "cell_type": "markdown",
   "metadata": {
    "colab_type": "text",
    "id": "QLSslfFdf98b"
   },
   "source": [
    "<a id = \"z\"> </a>\n",
    "## 1. Large Sample Test\n",
    "- sample siz > 30\n",
    "- pop sd is known(sigma is known)"
   ]
  },
  {
   "cell_type": "markdown",
   "metadata": {
    "colab_type": "text",
    "id": "XID79y2_f99O"
   },
   "source": [
    "<table align=\"left\">\n",
    "    <tr>\n",
    "        <td width=\"6%\">\n",
    "            <img src=\"question_icon.png\">\n",
    "        </td>\n",
    "        <td>\n",
    "            <div align=\"left\", style=\"font-size:120%\">\n",
    "                <font color=\"#21618C\">\n",
    "                    <b>1. The temperature (in degree Celsius) at Manhattan is recorded for 45 winter days. A student from the Geography department wants to test the claim proposed by the weather department. Check whether the given data satisfies the condition of normality with 99% confidence?</b>\n",
    "                </font>\n",
    "            </div>\n",
    "        </td>\n",
    "    </tr>\n",
    "</table>"
   ]
  },
  {
   "cell_type": "markdown",
   "metadata": {},
   "source": [
    "Use the data given below:\n",
    "        \n",
    "    temp_winter =  [2.51, 2.6, 1.8, 2.61, 3.9, 1.7, 1.9, 3.1, 1.58, 2.85, 2.9, 1.25, 1.3, 2.4, 3.22, 2.56, 1.32, 1.2, 1.26, \n",
    "                    3.2, 2.7, 3.5, 2.8, 1.5, 3.8, 1.84, 3.31, 1.24, 1.75, 1.41, 1.57, 1.4, 1.49, 2.26, 2.5, 2.52, 3.42, 1.36, \n",
    "                    2.35, 2.47, 2.28, 2.22, 2.66, 3.43, 1.98]"
   ]
  },
  {
   "cell_type": "code",
   "execution_count": 3,
   "metadata": {},
   "outputs": [
    {
     "name": "stdout",
     "output_type": "stream",
     "text": [
      "ShapiroResult(statistic=0.9453739523887634, pvalue=0.03401985391974449)\n",
      "p_value is : 0.03401985391974449\n",
      "p value is greater than alpha : 0.01 so fail to rejet null hypothesis and we can say that Data is Normally Distributed\n"
     ]
    }
   ],
   "source": [
    "\n",
    "temp_winter =  [2.51, 2.6, 1.8, 2.61, 3.9, 1.7, 1.9, 3.1, 1.58, 2.85, 2.9, 1.25, 1.3, 2.4, 3.22, 2.56, 1.32, 1.2, 1.26, \n",
    "                3.2, 2.7, 3.5, 2.8, 1.5, 3.8, 1.84, 3.31, 1.24, 1.75, 1.41, 1.57, 1.4, 1.49, 2.26, 2.5, 2.52, 3.42, 1.36, \n",
    "                2.35, 2.47, 2.28, 2.22, 2.66, 3.43, 1.98]\n",
    "\n",
    "# Plot Histogram\n",
    "\n",
    "# use shapiro test - test of normality\n",
    "#H0 - Data is Normaly distributed\n",
    "#H1 - Data is not Normally distributed\n",
    "\n",
    "from scipy.stats import shapiro\n",
    "\n",
    "print(shapiro(temp_winter))\n",
    "\n",
    "p_value = shapiro(temp_winter)[1]\n",
    "print('p_value is :',p_value)\n",
    "\n",
    "print('p value is greater than alpha : 0.01 so fail to rejet null hypothesis and we can say that Data is Normally Distributed')"
   ]
  },
  {
   "cell_type": "code",
   "execution_count": 4,
   "metadata": {},
   "outputs": [
    {
     "data": {
      "image/png": "[encoded data removed]",
      "text/plain": [
       "<Figure size 432x288 with 1 Axes>"
      ]
     },
     "metadata": {
      "needs_background": "light"
     },
     "output_type": "display_data"
    }
   ],
   "source": [
    "# Checking using kde plot\n",
    "import matplotlib.pyplot as plt\n",
    "import seaborn as sns\n",
    "\n",
    "sns.kdeplot(data = temp_winter)\n",
    "plt.show()"
   ]
  },
  {
   "cell_type": "markdown",
   "metadata": {
    "colab_type": "text",
    "id": "XID79y2_f99O"
   },
   "source": [
    "<table align=\"left\">\n",
    "    <tr>\n",
    "        <td width=\"6%\">\n",
    "            <img src=\"question_icon.png\">\n",
    "        </td>\n",
    "        <td>\n",
    "            <div align=\"left\", style=\"font-size:120%\">\n",
    "                <font color=\"#21618C\">\n",
    "                    <b>2. Use the temperature data given in the previous question. The weather department claims that the average temperature in Manhattan is less than 2.8 degree celsius in winter. Test the department's claim using  with 99% confidence.</b>\n",
    "                </font>\n",
    "            </div>\n",
    "        </td>\n",
    "    </tr>\n",
    "</table>"
   ]
  },
  {
   "cell_type": "markdown",
   "metadata": {},
   "source": [
    "Use the data given below:\n",
    "        \n",
    "    temp_winter =  [2.51, 2.6, 1.8, 2.61, 3.9, 1.7, 1.9, 3.1, 1.58, 2.85, 2.9, 1.25, 1.3, 2.4, 3.22, 2.56, 1.32, 1.2, 1.26, \n",
    "                    3.2, 2.7, 3.5, 2.8, 1.5, 3.8, 1.84, 3.31, 1.24, 1.75, 1.41, 1.57, 1.4, 1.49, 2.26, 2.5, 2.52, 3.42, 1.36, \n",
    "                    2.35, 2.47, 2.28, 2.22, 2.66, 3.43, 1.98]"
   ]
  },
  {
   "cell_type": "code",
   "execution_count": 5,
   "metadata": {},
   "outputs": [
    {
     "name": "stdout",
     "output_type": "stream",
     "text": [
      "Z critical value :  -2.3263478740408408\n",
      "Z stats : -4.439552007491998\n",
      "P-value :  4.507316464110269e-06\n"
     ]
    }
   ],
   "source": [
    "# claim : mu<2.8\n",
    "\n",
    "# h0: mu >=2.8\n",
    "# h1: mu < 2.8 \n",
    "\n",
    "## one tailed or two tailed? \n",
    "## one tailed left side test\n",
    "\n",
    "temp_winter =  np.array([2.51, 2.6, 1.8, 2.61, 3.9, 1.7, 1.9, 3.1, 1.58, 2.85, 2.9, 1.25, 1.3, 2.4, 3.22, 2.56, 1.32, 1.2, 1.26, \n",
    "                3.2, 2.7, 3.5, 2.8, 1.5, 3.8, 1.84, 3.31, 1.24, 1.75, 1.41, 1.57, 1.4, 1.49, 2.26, 2.5, 2.52, 3.42, 1.36, \n",
    "                2.35, 2.47, 2.28, 2.22, 2.66, 3.43, 1.98])\n",
    "xbar = np.mean(temp_winter)\n",
    "\n",
    "alpha = 0.01\n",
    "mu =2.8\n",
    "\n",
    "z_critical = st.norm.ppf(alpha)\n",
    "print('Z critical value : ',z_critical)\n",
    "\n",
    "\n",
    "\n",
    "# Sample Standard Deviation is Taken for estimate , so n-1 , thats why ddof=1 is used , its degree of freedom\n",
    "#ddof means subtract 1 from the denominator\n",
    "sigma = np.std(temp_winter, ddof=1)\n",
    "\n",
    "n = len(temp_winter)\n",
    "\n",
    "Z_Test_Statistic = (xbar - 2.8)/(sigma/np.sqrt(n))\n",
    "print('Z stats :',Z_Test_Statistic)\n",
    "\n",
    "p_value = st.norm.cdf(Z_Test_Statistic)\n",
    "print('P-value : ', p_value)\n"
   ]
  },
  {
   "cell_type": "code",
   "execution_count": 6,
   "metadata": {},
   "outputs": [
    {
     "data": {
      "text/plain": [
       "(-4.439552007491998, 4.507316464110269e-06)"
      ]
     },
     "execution_count": 6,
     "metadata": {},
     "output_type": "execute_result"
    }
   ],
   "source": [
    "from statsmodels.stats import weightstats as stests\n",
    "stests.ztest(x1=temp_winter,value=2.8,alternative='smaller')\n",
    "\n",
    "#alternative -  < - smaller , >- larger , two-sided - two tailed test"
   ]
  },
  {
   "cell_type": "code",
   "execution_count": 7,
   "metadata": {},
   "outputs": [],
   "source": [
    "#### Conclusion : z_stats is less than z_critical so, Reject Null hypothesis and accept alternate hypothesis\n"
   ]
  },
  {
   "cell_type": "markdown",
   "metadata": {
    "colab_type": "text",
    "id": "3uPwVwgAf99s"
   },
   "source": [
    "<table align=\"left\">\n",
    "    <tr>\n",
    "        <td width=\"6%\">\n",
    "            <img src=\"question_icon.png\">\n",
    "        </td>\n",
    "        <td>\n",
    "            <div align=\"left\", style=\"font-size:120%\">\n",
    "                <font color=\"#21618C\">\n",
    "                    <b>3. The bank manager claims that the complaints regarding fraud transactions are less than 12 per month with a standard deviation of 3 frauds. To test the claim the sample data for 3 years is collected. The average number of frauds in sample data is 10. Use  claim with 95% confidence. Assume data is normal</b>\n",
    "                </font>\n",
    "            </div>\n",
    "        </td>\n",
    "    </tr>\n",
    "</table>"
   ]
  },
  {
   "cell_type": "code",
   "execution_count": 8,
   "metadata": {},
   "outputs": [
    {
     "name": "stdout",
     "output_type": "stream",
     "text": [
      "Z critical value  -1.6448536269514729\n",
      "Z Stats value : -4.0\n",
      "P value : 3.167124183311986e-05\n",
      "We reject Null and accept Alternate hypothesis\n"
     ]
    }
   ],
   "source": [
    "\n",
    "# h0 -> mu >= 12\n",
    "# h1 -> mu < 12\n",
    "\n",
    "alpha = 0.05\n",
    "sigma = 3\n",
    "n= 3*12\n",
    "xbar =10\n",
    "mu =12\n",
    "\n",
    "z_critical_value = st.norm.ppf(alpha)\n",
    "\n",
    "print('Z critical value ',z_critical_value)\n",
    "\n",
    "Z_Test_Statistic = (xbar - mu)/(sigma/np.sqrt(n))\n",
    "\n",
    "print('Z Stats value :',Z_Test_Statistic)\n",
    "\n",
    "p_value = st.norm.cdf(Z_Test_Statistic)\n",
    "\n",
    "print('P value :',p_value)\n",
    "\n",
    "if p_value <  alpha:\n",
    "    print('We reject Null and accept Alternate hypothesis')\n",
    "else:\n",
    "    print('We fail to reject Null Hypothesis')"
   ]
  },
  {
   "cell_type": "code",
   "execution_count": 9,
   "metadata": {},
   "outputs": [],
   "source": [
    "# Z stats value is less than the alpha, Hence we Reject the Null hypothesis and Accept the alternate Hypothesis\n",
    "# P value < aplha - 3.167124183311986e-05 < 0.05"
   ]
  },
  {
   "cell_type": "markdown",
   "metadata": {
    "colab_type": "text",
    "id": "EE_L86gBf99t"
   },
   "source": [
    "<table align=\"left\">\n",
    "    <tr>\n",
    "        <td width=\"6%\">\n",
    "            <img src=\"question_icon.png\">\n",
    "        </td>\n",
    "        <td>\n",
    "            <div align=\"left\", style=\"font-size:120%\">\n",
    "                <font color=\"#21618C\">\n",
    "                    <b>4. The internet provider claims that their router gives a speed of 25 Mbps with a standard deviation of 4.8 Mbps. The computer engineer wants to check whether the speed is different than what the provider claims. For this study, the engineer collects the speed of 40 routers and found that the average speed is 23.2 Mbps for those 40 routers. Test the claim of engineer with 90% confidence.Assume data is normal.</b>\n",
    "                </font> \n",
    "            </div>\n",
    "        </td>\n",
    "    </tr>\n",
    "</table>"
   ]
  },
  {
   "cell_type": "code",
   "execution_count": 10,
   "metadata": {},
   "outputs": [
    {
     "name": "stdout",
     "output_type": "stream",
     "text": [
      "z_critical_value : -1.6448536269514729\n",
      "z stats : -2.3717082451262854\n",
      "p value :  0.01770606580736657\n",
      "We reject Null and accept Alternate hypothesis\n"
     ]
    }
   ],
   "source": [
    "# type your code here\n",
    "\n",
    "# h0 -> mu =25\n",
    "# h1 - > mu !=25\n",
    "\n",
    "# Two tailed Tests\n",
    "\n",
    "mu =25\n",
    "sigma = 4.8\n",
    "n =40\n",
    "xbar = 23.2\n",
    "alpha = 0.1\n",
    "\n",
    "z_critical_value = st.norm.ppf(alpha/2)\n",
    "\n",
    "print('z_critical_value :',z_critical_value)\n",
    "\n",
    "z_stats = (xbar-mu) / (sigma/np.sqrt(n))\n",
    "\n",
    "print('z stats :',z_stats)\n",
    "\n",
    "p_value = st.norm.cdf(z_stats) *2\n",
    "\n",
    "print('p value : ',p_value)\n",
    "\n",
    "if p_value <  alpha:\n",
    "    print('We reject Null and accept Alternate hypothesis')\n",
    "else:\n",
    "    print('We fail to reject Null Hypothesis')"
   ]
  },
  {
   "cell_type": "markdown",
   "metadata": {
    "colab_type": "text",
    "id": "EFaFOXFTf99t"
   },
   "source": [
    "<table align=\"left\">\n",
    "    <tr>\n",
    "        <td width=\"6%\">\n",
    "            <img src=\"question_icon.png\">\n",
    "        </td>\n",
    "        <td>\n",
    "            <div align=\"left\", style=\"font-size:120%\">\n",
    "                <font color=\"#21618C\">\n",
    "                    <b>5. The health magazine in New York states that every person in NY drinks more than 1.8 L water every day with a standard deviation of 0.5 L. To test this claim the physician collects the data of 45 people and found that the average water intake for these people is 1.93 L. Use the p-value technique to test the claim with 95% confidence.Assume data is normal.</b>\n",
    "                </font>\n",
    "            </div>\n",
    "        </td>\n",
    "    </tr>\n",
    "</table>"
   ]
  },
  {
   "cell_type": "code",
   "execution_count": 11,
   "metadata": {},
   "outputs": [
    {
     "name": "stdout",
     "output_type": "stream",
     "text": [
      "z-critical :  1.6448536269514729\n",
      "Z_Stats :  1.7441330224498344\n",
      "p_value  : 0.040567948511057134\n",
      "We reject Null and accept Alternate hypothesis\n"
     ]
    }
   ],
   "source": [
    "#h0 -> mu <= 1.8\n",
    "#h1 -> mu >1.8\n",
    "# One tailed Tests - > right tailed Tests\n",
    "\n",
    "n =45\n",
    "xbar = 1.93\n",
    "alpha = 0.05\n",
    "sigma = 0.5\n",
    "mu = 1.8\n",
    "z_critical_value =  st.norm.isf(alpha)\n",
    "\n",
    "Z_stats = (xbar-mu)/(sigma/np.sqrt(n))\n",
    "\n",
    "print('z-critical : ',z_critical_value)\n",
    "\n",
    "print('Z_Stats : ',Z_stats)\n",
    "\n",
    "p_value = st.norm.sf(Z_stats)\n",
    "\n",
    "print('p_value  :',p_value)\n",
    "\n",
    "\n",
    "if p_value <  alpha:\n",
    "    print('We reject Null and accept Alternate hypothesis')\n",
    "else:\n",
    "    print('We fail to reject Null Hypothesis')"
   ]
  },
  {
   "cell_type": "markdown",
   "metadata": {
    "colab_type": "text",
    "id": "V7QJT8W9f98T"
   },
   "source": [
    "<table align=\"left\">\n",
    "    <tr>\n",
    "        <td width=\"6%\">\n",
    "            <img src=\"question_icon.png\">\n",
    "        </td>\n",
    "        <td>\n",
    "            <div align=\"left\", style=\"font-size:120%\">\n",
    "                <font color=\"#21618C\">\n",
    "                    <b>6. The company MangoFun that produces mango juice claims that the protein content in their juice is more than the juice produced by their competitor company FruitMix. Protein content in 50 boxes of MangoFun juice and 80 boxes of FruitMix juice is collected from a normal population which have an average protein content as 0.4 g and 0.35 g. The two samples have a standard deviation of 0.08 g for MangoFun juice and 0.05 g for FruitMix juice. Use 1% level of significance.</b>\n",
    "                </font>\n",
    "            </div>\n",
    "        </td>\n",
    "    </tr>\n",
    "</table>"
   ]
  },
  {
   "cell_type": "markdown",
   "metadata": {},
   "source": [
    "Use the data given below:\n",
    "\n",
    "time =  [2.51, 2.1, 2.18, 2.61, 1.9, 1.7, 1.95, 2.1, 1.58, 2.5, 2.19, 1.85, 1.35, 2.4, 2.22, 2.15, 1.82, 1.62, 1.26, \n",
    "         2.2, 2.35, 2.5, 2.18, 1.58, 2.24, 1.84, 2.31, 2.24, 1.75, 1.41, 1.57, 2.4]"
   ]
  },
  {
   "cell_type": "code",
   "execution_count": 12,
   "metadata": {},
   "outputs": [
    {
     "name": "stdout",
     "output_type": "stream",
     "text": [
      "Z_critical_value : 2.3263478740408408\n",
      "z-stats : 3.96214425875164\n",
      "p_value  : 3.7139817357365585e-05\n",
      "We reject Null and accept Alternate hypothesis\n"
     ]
    }
   ],
   "source": [
    "# Statistics for first sample\n",
    "\n",
    "n1 =  50\n",
    "xbar1 = 0.4\n",
    "s1=0.08\n",
    "# mu1 - pop mean of Protein Content(MangoFun)\n",
    "\n",
    "alpha = 0.01\n",
    "\n",
    "# Statistics for second sample\n",
    "n2 =  80\n",
    "xbar2 = 0.35\n",
    "s2= 0.05\n",
    "#mu2 =  pop mean of Protein Content(FruitMix)\n",
    "\n",
    "\n",
    "# test protein content in MangoFun is > protein content in Fruitmix\n",
    "\n",
    "#h0 -> mu1<=mu2\n",
    "#h1 - > mu1 > mu2\n",
    "\n",
    "# Right tailed test\n",
    "\n",
    "z_critical_value = st.norm.isf(alpha)\n",
    "print('Z_critical_value :',z_critical_value)\n",
    "\n",
    "z_stats = (xbar1 - xbar2)/(np.sqrt((s1**2/n1) + (s2**2/n2)))\n",
    "\n",
    "print('z-stats :',z_stats)\n",
    "\n",
    "p_value = st.norm.sf(z_stats)\n",
    "\n",
    "print('p_value  :',p_value)\n",
    "\n",
    "\n",
    "if p_value <  alpha:\n",
    "    print('We reject Null and accept Alternate hypothesis')\n",
    "else:\n",
    "    print('We fail to reject Null Hypothesis')"
   ]
  },
  {
   "cell_type": "markdown",
   "metadata": {
    "colab_type": "text",
    "id": "6YXVLVi9f98b"
   },
   "source": [
    "<table align=\"left\">\n",
    "    <tr>\n",
    "        <td width=\"6%\">\n",
    "            <img src=\"question_icon.png\">\n",
    "        </td>\n",
    "        <td>\n",
    "            <div align=\"left\", style=\"font-size:120%\">\n",
    "                <font color=\"#21618C\">\n",
    "                    <b>7. The technician wants to test whether the price of a phablet is not the same as the price of tablet. For the study, the technician collects the data of 50 gadgets of each type. Check whether the data satisfies the conditions to use the two sample Z-test. (Use 5% level of significance)</b>\n",
    "                </font>\n",
    "            </div>\n",
    "        </td>\n",
    "    </tr>\n",
    "</table>"
   ]
  },
  {
   "cell_type": "markdown",
   "metadata": {},
   "source": [
    "Consider the dataset given in the CSV file `electronic.csv`. "
   ]
  },
  {
   "cell_type": "code",
   "execution_count": 13,
   "metadata": {},
   "outputs": [
    {
     "data": {
      "text/html": [
       "<div>\n",
       "<style scoped>\n",
       "    .dataframe tbody tr th:only-of-type {\n",
       "        vertical-align: middle;\n",
       "    }\n",
       "\n",
       "    .dataframe tbody tr th {\n",
       "        vertical-align: top;\n",
       "    }\n",
       "\n",
       "    .dataframe thead th {\n",
       "        text-align: right;\n",
       "    }\n",
       "</style>\n",
       "<table border=\"1\" class=\"dataframe\">\n",
       "  <thead>\n",
       "    <tr style=\"text-align: right;\">\n",
       "      <th></th>\n",
       "      <th>Screensize (inch)</th>\n",
       "      <th>Price ($)</th>\n",
       "      <th>Weight (g)</th>\n",
       "      <th>Type</th>\n",
       "    </tr>\n",
       "  </thead>\n",
       "  <tbody>\n",
       "    <tr>\n",
       "      <th>0</th>\n",
       "      <td>6.5</td>\n",
       "      <td>245</td>\n",
       "      <td>252</td>\n",
       "      <td>Phablet</td>\n",
       "    </tr>\n",
       "    <tr>\n",
       "      <th>1</th>\n",
       "      <td>6.3</td>\n",
       "      <td>210</td>\n",
       "      <td>252</td>\n",
       "      <td>Phablet</td>\n",
       "    </tr>\n",
       "    <tr>\n",
       "      <th>2</th>\n",
       "      <td>6.1</td>\n",
       "      <td>224</td>\n",
       "      <td>234</td>\n",
       "      <td>Phablet</td>\n",
       "    </tr>\n",
       "    <tr>\n",
       "      <th>3</th>\n",
       "      <td>6.0</td>\n",
       "      <td>217</td>\n",
       "      <td>212</td>\n",
       "      <td>Phablet</td>\n",
       "    </tr>\n",
       "    <tr>\n",
       "      <th>4</th>\n",
       "      <td>6.4</td>\n",
       "      <td>252</td>\n",
       "      <td>252</td>\n",
       "      <td>Phablet</td>\n",
       "    </tr>\n",
       "  </tbody>\n",
       "</table>\n",
       "</div>"
      ],
      "text/plain": [
       "   Screensize (inch)  Price ($)  Weight (g)     Type\n",
       "0                6.5        245         252  Phablet\n",
       "1                6.3        210         252  Phablet\n",
       "2                6.1        224         234  Phablet\n",
       "3                6.0        217         212  Phablet\n",
       "4                6.4        252         252  Phablet"
      ]
     },
     "execution_count": 13,
     "metadata": {},
     "output_type": "execute_result"
    }
   ],
   "source": [
    "df_electronic = pd.read_csv('electronic.csv')\n",
    "df_electronic.head()"
   ]
  },
  {
   "cell_type": "code",
   "execution_count": 14,
   "metadata": {},
   "outputs": [
    {
     "data": {
      "text/plain": [
       "Index(['Screensize (inch)', 'Price ($)', 'Weight (g)', 'Type'], dtype='object')"
      ]
     },
     "execution_count": 14,
     "metadata": {},
     "output_type": "execute_result"
    }
   ],
   "source": [
    "df_electronic.columns"
   ]
  },
  {
   "cell_type": "code",
   "execution_count": 15,
   "metadata": {},
   "outputs": [
    {
     "data": {
      "text/plain": [
       "array(['Phablet', 'Tablet'], dtype=object)"
      ]
     },
     "execution_count": 15,
     "metadata": {},
     "output_type": "execute_result"
    }
   ],
   "source": [
    "df_electronic.Type.unique()"
   ]
  },
  {
   "cell_type": "code",
   "execution_count": 16,
   "metadata": {},
   "outputs": [
    {
     "data": {
      "text/plain": [
       "Type\n",
       "Phablet    239.26\n",
       "Tablet     193.90\n",
       "Name: Price ($), dtype: float64"
      ]
     },
     "execution_count": 16,
     "metadata": {},
     "output_type": "execute_result"
    }
   ],
   "source": [
    "df_electronic.groupby('Type')['Price ($)'].mean()"
   ]
  },
  {
   "cell_type": "code",
   "execution_count": 17,
   "metadata": {},
   "outputs": [
    {
     "data": {
      "text/plain": [
       "Type\n",
       "Phablet    26.671708\n",
       "Tablet     21.965883\n",
       "Name: Price ($), dtype: float64"
      ]
     },
     "execution_count": 17,
     "metadata": {},
     "output_type": "execute_result"
    }
   ],
   "source": [
    "df_electronic.groupby('Type')['Price ($)'].std(ddof=1)"
   ]
  },
  {
   "cell_type": "code",
   "execution_count": 18,
   "metadata": {},
   "outputs": [
    {
     "name": "stdout",
     "output_type": "stream",
     "text": [
      "Z_critical_value : 1.9599639845400545\n",
      "z-stats : 9.28413158724384\n",
      "p_value  : 1.6303117805475814e-20\n",
      "We reject Null and accept Alternate hypothesis\n"
     ]
    }
   ],
   "source": [
    "#mu1 - Average price of phablet\n",
    "#mu2 - Average price of tablet\n",
    "\n",
    "\n",
    "#h0 = mu1=mu2\n",
    "#h1 = mu1!=mu2\n",
    "\n",
    "n1 = 50\n",
    "xbar1 = 239.26\n",
    "s1 = 26.67\n",
    "\n",
    "alpha = 0.05\n",
    "\n",
    "n2 = 50\n",
    "xbar2 = 193.90\n",
    "s2= 21.96\n",
    "\n",
    "# Two tailed test\n",
    "\n",
    "z_critical_value = st.norm.isf(alpha/2)\n",
    "print('Z_critical_value :',z_critical_value)\n",
    "\n",
    "z_stats = (xbar1 - xbar2)/(np.sqrt((s1**2/n1) + (s2**2/n2)))\n",
    "\n",
    "print('z-stats :',z_stats)\n",
    "\n",
    "p_value = st.norm.sf(z_stats) *2\n",
    "\n",
    "print('p_value  :',p_value)\n",
    "\n",
    "\n",
    "if p_value <  alpha:\n",
    "    print('We reject Null and accept Alternate hypothesis')\n",
    "else:\n",
    "    print('We fail to reject Null Hypothesis')\n",
    "\n"
   ]
  },
  {
   "cell_type": "code",
   "execution_count": 19,
   "metadata": {},
   "outputs": [
    {
     "data": {
      "text/plain": [
       "(9.282772555558113, 1.6512473234517284e-20)"
      ]
     },
     "execution_count": 19,
     "metadata": {},
     "output_type": "execute_result"
    }
   ],
   "source": [
    "from statsmodels.stats import weightstats as stests\n",
    "stests.ztest(x1=df_electronic[df_electronic.Type == 'Phablet']['Price ($)'],x2= df_electronic[df_electronic.Type == 'Tablet']['Price ($)']\n",
    "             ,value=0,alternative='two-sided')"
   ]
  },
  {
   "cell_type": "markdown",
   "metadata": {
    "colab_type": "text",
    "id": "YIaQZc58f98p"
   },
   "source": [
    "<table align=\"left\">\n",
    "    <tr>\n",
    "        <td width=\"6%\">\n",
    "            <img src=\"question_icon.png\">\n",
    "        </td>\n",
    "        <td>\n",
    "            <div align=\"left\", style=\"font-size:120%\">\n",
    "                <font color=\"#21618C\">\n",
    "                    <b>8. The technician claims that the price of phablet is not the same as the price of tablet. For the study, the technician collects the data of 50 gadgets of each type. Test the technician's claim using the 95% confidence level.</b>\n",
    "                </font>\n",
    "            </div>\n",
    "        </td>\n",
    "    </tr>\n",
    "</table>"
   ]
  },
  {
   "cell_type": "markdown",
   "metadata": {},
   "source": [
    "Consider the dataset given in the CSV file `electronic.csv`. "
   ]
  },
  {
   "cell_type": "code",
   "execution_count": 20,
   "metadata": {},
   "outputs": [],
   "source": [
    "# Question 7 and 8 , both are same"
   ]
  },
  {
   "cell_type": "markdown",
   "metadata": {
    "colab_type": "text",
    "id": "QLSslfFdf98b"
   },
   "source": [
    "<a id=\"t\"></a>\n",
    "## 2. Small Sample Test"
   ]
  },
  {
   "cell_type": "markdown",
   "metadata": {
    "colab_type": "text",
    "id": "qI6L73Qhf98t"
   },
   "source": [
    "<table align=\"left\">\n",
    "    <tr>\n",
    "        <td width=\"6%\">\n",
    "            <img src=\"question_icon.png\">\n",
    "        </td>\n",
    "        <td>\n",
    "            <div align=\"left\", style=\"font-size:120%\">\n",
    "                <font color=\"#21618C\">\n",
    "                    <b>9. The quality assurance department has collected 15 packets of potato chips. The department wants to test the average weight of the packets. Check whether they can use the one sample t-test for the population mean with 95% confidence.</b>\n",
    "                </font>\n",
    "            </div>\n",
    "        </td>\n",
    "    </tr>\n",
    "</table>"
   ]
  },
  {
   "cell_type": "markdown",
   "metadata": {},
   "source": [
    "Use the data given below:\n",
    "        \n",
    "    pack_wt = [26.8, 29.6, 27.8, 31.2, 30.9, 27.1, 28, 28.6, 29.4, 29.3, 31.5, 32.4, 29.7, 28.1, 31.9]"
   ]
  },
  {
   "cell_type": "code",
   "execution_count": 45,
   "metadata": {},
   "outputs": [
    {
     "data": {
      "text/plain": [
       "ShapiroResult(statistic=0.9538426995277405, pvalue=0.5868644714355469)"
      ]
     },
     "execution_count": 45,
     "metadata": {},
     "output_type": "execute_result"
    }
   ],
   "source": [
    "pack_wt = [26.8, 29.6, 27.8, 31.2, 30.9, 27.1, 28, 28.6, 29.4, 29.3, 31.5, 32.4, 29.7, 28.1, 31.9]\n",
    "\n",
    "# Sample size is below 30 so we can use One sample t test for the above sample\n",
    "\n",
    "st.shapiro(pack_wt)"
   ]
  },
  {
   "cell_type": "code",
   "execution_count": 46,
   "metadata": {},
   "outputs": [],
   "source": [
    "#p value is greater than 0.05 , so we can use one sample t test"
   ]
  },
  {
   "cell_type": "markdown",
   "metadata": {
    "colab_type": "text",
    "id": "iZkGr2rTf98y"
   },
   "source": [
    "<table align=\"left\">\n",
    "    <tr>\n",
    "        <td width=\"6%\">\n",
    "            <img src=\"question_icon.png\">\n",
    "        </td>\n",
    "        <td>\n",
    "            <div align=\"left\", style=\"font-size:120%\">\n",
    "                <font color=\"#21618C\">\n",
    "                    <b>10. Use the weight of the potato chips packets given in the previous question and test whether the average weight of packet is more than 30 g. using p-value method. (Use 10% level of significance)</b>\n",
    "                </font>\n",
    "            </div>\n",
    "        </td>\n",
    "    </tr>\n",
    "</table>"
   ]
  },
  {
   "cell_type": "markdown",
   "metadata": {},
   "source": [
    "Use the data given below:\n",
    "        \n",
    "    pack_wt = [26.8, 29.6, 27.8, 31.2, 30.9, 27.1, 28, 28.6, 29.4, 29.3, 31.5, 32.4, 29.7, 28.1, 31.9]"
   ]
  },
  {
   "cell_type": "code",
   "execution_count": 52,
   "metadata": {},
   "outputs": [
    {
     "name": "stdout",
     "output_type": "stream",
     "text": [
      "t_critical_value  :  1.3450303744546486\n",
      "T statistic value : -1.159799905970342\n",
      "p value : 0.1327641612060404\n",
      "We fail to reject Null Hypothesis\n",
      "Confidence Interval Approach :  28.891349386505542 30.081983946827787\n"
     ]
    }
   ],
   "source": [
    "# h0 - > mu <= 30\n",
    "# h1 - > mu > 30\n",
    "pack_wt = [26.8, 29.6, 27.8, 31.2, 30.9, 27.1, 28, 28.6, 29.4, 29.3, 31.5, 32.4, 29.7, 28.1, 31.9]\n",
    "mu = 30\n",
    "alpha = 0.10\n",
    "s = np.std(pack_wt)\n",
    "n = 15\n",
    "xbar = np.mean(pack_wt)\n",
    "\n",
    "t_critical_value = st.t.isf(alpha,n-1)\n",
    "se = s/np.sqrt(n)\n",
    "\n",
    "print('t_critical_value  : ',t_critical_value)\n",
    "\n",
    "t_stats = (xbar - mu) / se\n",
    "\n",
    "print('T statistic value :',t_stats)\n",
    "\n",
    "p_value = st.t.sf(abs(t_stats),n-1)\n",
    "\n",
    "print('p value :',p_value)\n",
    "\n",
    "if p_value <  alpha:\n",
    "    print('We reject Null and accept Alternate hypothesis')\n",
    "else:\n",
    "    print('We fail to reject Null Hypothesis')\n",
    "    \n",
    "\n",
    "print (\"Confidence Interval Approach : \",(xbar - (t_critical_value*se)),(xbar + (t_critical_value*se)))\n"
   ]
  },
  {
   "cell_type": "code",
   "execution_count": 51,
   "metadata": {},
   "outputs": [
    {
     "name": "stdout",
     "output_type": "stream",
     "text": [
      "T stats : -1.1204731591740873\n",
      "p_value : 0.2813657625564071\n",
      "We fail to reject Null Hypothesis\n"
     ]
    }
   ],
   "source": [
    "# Using Inbuilt Function\n",
    "pack_wt = [26.8, 29.6, 27.8, 31.2, 30.9, 27.1, 28, 28.6, 29.4, 29.3, 31.5, 32.4, 29.7, 28.1, 31.9]\n",
    "ttest_stats,p_value = st.ttest_1samp(pack_wt,popmean = 30)\n",
    "\n",
    "print('T stats :',ttest_stats)\n",
    "print('p_value :',p_value)\n",
    "\n",
    "if p_value <  alpha:\n",
    "    print('We reject Null and accept Alternate hypothesis')\n",
    "else:\n",
    "    print('We fail to reject Null Hypothesis')"
   ]
  },
  {
   "cell_type": "markdown",
   "metadata": {
    "collapsed": true
   },
   "source": [
    "<table align=\"left\">\n",
    "    <tr>\n",
    "        <td width=\"6%\">\n",
    "            <img src=\"question_icon.png\">\n",
    "        </td>\n",
    "        <td>\n",
    "            <div align=\"left\", style=\"font-size:120%\">\n",
    "                <font color=\"#21618C\">\n",
    "                    <b> 11. The orthopaedic surgeon states that a T-score for females older than 30 years is less than -1.2 which indicates the low bone density. To test the claim a sample of 10 women was selected and the average T-score was found to be -1.34 with a standard deviation of 0.8. Test the surgeon's claim  with 95% confidence. (Assume the normality of the T-score). </b>\n",
    "                </font>\n",
    "            </div>\n",
    "        </td>\n",
    "    </tr>\n",
    "</table>"
   ]
  },
  {
   "cell_type": "code",
   "execution_count": 53,
   "metadata": {},
   "outputs": [
    {
     "name": "stdout",
     "output_type": "stream",
     "text": [
      "-1.8331129326536337 -0.5533985905294669 0.29673469801808217\n",
      "We fail to reject Null Hypothesis\n"
     ]
    }
   ],
   "source": [
    "#H0 -> mu >=-1.2\n",
    "#H1 ->mu < -1.2\n",
    "n=10\n",
    "xbar=-1.34\n",
    "s = 0.8\n",
    "alpha=0.05\n",
    "mu = -1.2\n",
    "\n",
    "t_crit = st.t.ppf(alpha,n-1)\n",
    "se = s/np.sqrt(n)\n",
    "\n",
    "t_stats = (xbar - mu)/se\n",
    "\n",
    "p_value = st.t.cdf(t_stats,n-1)\n",
    "\n",
    "print(t_crit,t_stats,p_value)\n",
    "\n",
    "if p_value <  alpha:\n",
    "    print('We reject Null and accept Alternate hypothesis')\n",
    "else:\n",
    "    print('We fail to reject Null Hypothesis')"
   ]
  },
  {
   "cell_type": "code",
   "execution_count": 54,
   "metadata": {},
   "outputs": [],
   "source": [
    "# Abs(t_stats) < Abs(t_crit) , so we fail to reject Null Hypothesis"
   ]
  },
  {
   "cell_type": "markdown",
   "metadata": {
    "colab_type": "text",
    "id": "iOS1kKjWf983"
   },
   "source": [
    "<table align=\"left\">\n",
    "    <tr>\n",
    "        <td width=\"6%\">\n",
    "            <img src=\"question_icon.png\">\n",
    "        </td>\n",
    "        <td>\n",
    "            <div align=\"left\", style=\"font-size:120%\">\n",
    "                <font color=\"#21618C\">\n",
    "                    <b>12. The newspaper agency wants to test whether Harry takes less time to deliver the newspapers than his colleague Ron. The manager has collected time (in minutes) taken by Harry and Ron for 7 days. Is the given dataset unpaired? If yes, check whether the manager at newspaper agency can use the two sample t-test for unpaired data with 99% confidence.  </b>\n",
    "                </font>\n",
    "            </div>\n",
    "        </td>\n",
    "    </tr>\n",
    "</table>"
   ]
  },
  {
   "cell_type": "markdown",
   "metadata": {},
   "source": [
    "Use the data given below:\n",
    "        \n",
    "    harry = [18.5, 17.4, 19.2, 16, 15.8, 13.4, 19.5]\n",
    "    ron = [19.7, 18.6, 21.3, 17.5, 23.8, 20.7, 21]"
   ]
  },
  {
   "cell_type": "code",
   "execution_count": 56,
   "metadata": {},
   "outputs": [
    {
     "name": "stdout",
     "output_type": "stream",
     "text": [
      "0.986557126045227 0.9969169497489929\n",
      "0.12793271359008374 0.7267972480247995\n"
     ]
    }
   ],
   "source": [
    "# test of Normality and test of shapiro\n",
    "\n",
    "harry = [18.5, 17.4, 19.2, 16, 15.8, 13.4, 19.5]\n",
    "ron = [19.7, 18.6, 21.3, 17.5, 23.8, 20.7, 21]\n",
    "time = harry + ron\n",
    "t_stat,p_value = st.shapiro(time)\n",
    "\n",
    "print(t_stat,p_value)\n",
    "\n",
    "# Levene test for variance equality\n",
    "\n",
    "t_stat,p_value =st.levene(harry,ron)\n",
    "\n",
    "print(t_stat,p_value)\n",
    "\n",
    "\n",
    "# Both Normality and Variance Test passedd(p_value>alpha), so we can use Two sample t test"
   ]
  },
  {
   "cell_type": "code",
   "execution_count": 58,
   "metadata": {},
   "outputs": [
    {
     "name": "stdout",
     "output_type": "stream",
     "text": [
      "3.012275838207184 -3.2364934307633284\n"
     ]
    }
   ],
   "source": [
    "#13)\n",
    "#H0 - > mu>=mu2\n",
    "#H1 - > mu1<mu2\n",
    "\n",
    "harry = [18.5, 17.4, 19.2, 16, 15.8, 13.4, 19.5]\n",
    "ron = [19.7, 18.6, 21.3, 17.5, 23.8, 20.7, 21]\n",
    "\n",
    "alpha = 0.01\n",
    "n1 = len(harry)\n",
    "n2= len(ron)\n",
    "xbar1 = np.mean(harry)\n",
    "xbar2 = np.mean(ron)\n",
    "s1 = np.std(harry)\n",
    "s2= np.std(ron)\n",
    "\n",
    "t_crit = st.t.isf(alpha/2,n1+n2-1)\n",
    "\n",
    "s = np.sqrt((n1-1)*s1**2 + (n2-1)*s2**2) / np.sqrt(n1+n2-1)\n",
    "\n",
    "t_stats = (xbar1-xbar2) / (s*np.sqrt((1/n1) + (1/n2)))\n",
    "\n",
    "print(t_crit,t_stats)"
   ]
  },
  {
   "cell_type": "code",
   "execution_count": 60,
   "metadata": {},
   "outputs": [
    {
     "data": {
      "text/plain": [
       "(-2.8788582527177526, 0.01385995160611642)"
      ]
     },
     "execution_count": 60,
     "metadata": {},
     "output_type": "execute_result"
    }
   ],
   "source": [
    "ttest_stats,p_value = st.ttest_ind(harry,ron)\n",
    "ttest_stats,p_value"
   ]
  },
  {
   "cell_type": "code",
   "execution_count": 61,
   "metadata": {},
   "outputs": [
    {
     "data": {
      "text/plain": [
       "0.00692997580305821"
      ]
     },
     "execution_count": 61,
     "metadata": {},
     "output_type": "execute_result"
    }
   ],
   "source": [
    "p_value/2"
   ]
  },
  {
   "cell_type": "markdown",
   "metadata": {},
   "source": [
    "Use the data given below:\n",
    "        \n",
    "    harry = [18.5, 17.4, 19.2, 16, 15.8, 13.4, 19.5]\n",
    "    ron = [19.7, 18.6, 21.3, 17.5, 23.8, 20.7, 21]"
   ]
  },
  {
   "cell_type": "markdown",
   "metadata": {
    "colab_type": "text",
    "id": "XID79y2_f99O"
   },
   "source": [
    "<table align=\"left\">\n",
    "    <tr>\n",
    "        <td width=\"6%\">\n",
    "            <img src=\"question_icon.png\">\n",
    "        </td>\n",
    "        <td>\n",
    "            <div align=\"left\", style=\"font-size:120%\">\n",
    "                <font color=\"#21618C\">\n",
    "                        <b>14. The pharmaceutical company had organized a program to introduce its new drug to lower the sugar level. They recorded the fasting sugar (in mg/dl) of 25 diabetic people. Those people undergo a medication of the new drug for 10 days and again took a fasting sugar level test. The company claim that the sugar level decreases due to its new drug. Test the claim using p-value technique with 95% confidence.</b>\n",
    "                </font>\n",
    "            </div>\n",
    "        </td>\n",
    "    </tr>\n",
    "</table>"
   ]
  },
  {
   "cell_type": "markdown",
   "metadata": {},
   "source": [
    "Use the data given in the file `sugar_level.xlsx`"
   ]
  },
  {
   "cell_type": "code",
   "execution_count": 43,
   "metadata": {},
   "outputs": [
    {
     "data": {
      "text/html": [
       "<div>\n",
       "<style scoped>\n",
       "    .dataframe tbody tr th:only-of-type {\n",
       "        vertical-align: middle;\n",
       "    }\n",
       "\n",
       "    .dataframe tbody tr th {\n",
       "        vertical-align: top;\n",
       "    }\n",
       "\n",
       "    .dataframe thead th {\n",
       "        text-align: right;\n",
       "    }\n",
       "</style>\n",
       "<table border=\"1\" class=\"dataframe\">\n",
       "  <thead>\n",
       "    <tr style=\"text-align: right;\">\n",
       "      <th></th>\n",
       "      <th>sugar_before</th>\n",
       "      <th>sugar_after</th>\n",
       "    </tr>\n",
       "  </thead>\n",
       "  <tbody>\n",
       "    <tr>\n",
       "      <th>0</th>\n",
       "      <td>135</td>\n",
       "      <td>132</td>\n",
       "    </tr>\n",
       "    <tr>\n",
       "      <th>1</th>\n",
       "      <td>132</td>\n",
       "      <td>136</td>\n",
       "    </tr>\n",
       "    <tr>\n",
       "      <th>2</th>\n",
       "      <td>142</td>\n",
       "      <td>139</td>\n",
       "    </tr>\n",
       "    <tr>\n",
       "      <th>3</th>\n",
       "      <td>154</td>\n",
       "      <td>151</td>\n",
       "    </tr>\n",
       "    <tr>\n",
       "      <th>4</th>\n",
       "      <td>198</td>\n",
       "      <td>192</td>\n",
       "    </tr>\n",
       "  </tbody>\n",
       "</table>\n",
       "</div>"
      ],
      "text/plain": [
       "   sugar_before  sugar_after\n",
       "0           135          132\n",
       "1           132          136\n",
       "2           142          139\n",
       "3           154          151\n",
       "4           198          192"
      ]
     },
     "execution_count": 43,
     "metadata": {},
     "output_type": "execute_result"
    }
   ],
   "source": [
    "df_sugar = pd.read_excel('sugar_level.xlsx')\n",
    "\n",
    "df_sugar.head(5)"
   ]
  },
  {
   "cell_type": "code",
   "execution_count": 64,
   "metadata": {},
   "outputs": [
    {
     "name": "stdout",
     "output_type": "stream",
     "text": [
      "We reject Null and accept Alternate hypothesis\n"
     ]
    }
   ],
   "source": [
    "t_stats ,p_value = st.ttest_rel(df_sugar['sugar_before'],df_sugar['sugar_after'])\n",
    "\n",
    "t_stats,p_value\n",
    "\n",
    "if p_value <  alpha:\n",
    "    print('We reject Null and accept Alternate hypothesis')\n",
    "else:\n",
    "    print('We fail to reject Null Hypothesis')"
   ]
  },
  {
   "cell_type": "code",
   "execution_count": 65,
   "metadata": {},
   "outputs": [],
   "source": [
    "# The sugar level decreases"
   ]
  },
  {
   "cell_type": "code",
   "execution_count": null,
   "metadata": {},
   "outputs": [],
   "source": []
  }
 ],
 "metadata": {
  "colab": {
   "name": "ITP - In-Class Lab Exercise (Day1) - Solutions [V1.0 030120].ipynb",
   "provenance": []
  },
  "kernelspec": {
   "display_name": "Python 3",
   "language": "python",
   "name": "python3"
  },
  "language_info": {
   "codemirror_mode": {
    "name": "ipython",
    "version": 3
   },
   "file_extension": ".py",
   "mimetype": "text/x-python",
   "name": "python",
   "nbconvert_exporter": "python",
   "pygments_lexer": "ipython3",
   "version": "3.8.5"
  }
 },
 "nbformat": 4,
 "nbformat_minor": 1
}
